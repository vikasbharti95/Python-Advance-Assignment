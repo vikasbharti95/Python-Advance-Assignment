{
 "cells": [
  {
   "cell_type": "markdown",
   "id": "80458c66",
   "metadata": {},
   "source": [
    "## Q1. What is the purpose of the try statement?\n",
    "Ans: while handling an exception in python script, try statement try to catch if there is an exception or not. if exception is available inside a try block then code of except block will be excuted."
   ]
  },
  {
   "cell_type": "markdown",
   "id": "4a84b677",
   "metadata": {},
   "source": [
    "## Q2. What are the two most popular try statement variations?"
   ]
  },
  {
   "cell_type": "markdown",
   "id": "f15cb6ba",
   "metadata": {},
   "source": [
    "Ans: popular try statement variations are \n",
    "1. try:, except:\n",
    "2. try:, except:, else:"
   ]
  },
  {
   "cell_type": "markdown",
   "id": "ae8e3b21",
   "metadata": {},
   "source": [
    "## Q3. What is the purpose of the raise statement?"
   ]
  },
  {
   "cell_type": "markdown",
   "id": "6ddf201f",
   "metadata": {},
   "source": [
    "Ans: raise statement is used to define a custom exception by the user. if user wants to creat his own exception other than inbuilt exception he can do so by using raise keyword based on user's condition"
   ]
  },
  {
   "cell_type": "code",
   "execution_count": 7,
   "id": "8e639f8d",
   "metadata": {},
   "outputs": [
    {
     "ename": "Exception",
     "evalue": "length of string should be 6",
     "output_type": "error",
     "traceback": [
      "\u001b[1;31m---------------------------------------------------------------------------\u001b[0m",
      "\u001b[1;31mException\u001b[0m                                 Traceback (most recent call last)",
      "\u001b[1;32m~\\AppData\\Local\\Temp/ipykernel_26044/4268911027.py\u001b[0m in \u001b[0;36m<module>\u001b[1;34m\u001b[0m\n\u001b[0;32m      1\u001b[0m \u001b[0ma\u001b[0m \u001b[1;33m=\u001b[0m \u001b[1;34m'hello'\u001b[0m\u001b[1;33m\u001b[0m\u001b[1;33m\u001b[0m\u001b[0m\n\u001b[0;32m      2\u001b[0m \u001b[1;32mif\u001b[0m \u001b[0mlen\u001b[0m\u001b[1;33m(\u001b[0m\u001b[0ma\u001b[0m\u001b[1;33m)\u001b[0m\u001b[1;33m!=\u001b[0m\u001b[1;36m6\u001b[0m\u001b[1;33m:\u001b[0m\u001b[1;33m\u001b[0m\u001b[1;33m\u001b[0m\u001b[0m\n\u001b[1;32m----> 3\u001b[1;33m     \u001b[1;32mraise\u001b[0m \u001b[0mException\u001b[0m\u001b[1;33m(\u001b[0m\u001b[1;34m'length of string should be 6'\u001b[0m\u001b[1;33m)\u001b[0m\u001b[1;33m\u001b[0m\u001b[1;33m\u001b[0m\u001b[0m\n\u001b[0m",
      "\u001b[1;31mException\u001b[0m: length of string should be 6"
     ]
    }
   ],
   "source": [
    "a = 'hello'\n",
    "if len(a)!=6:\n",
    "    raise Exception('length of string should be 6')"
   ]
  },
  {
   "cell_type": "markdown",
   "id": "2a16e5a4",
   "metadata": {},
   "source": [
    "## Q4. What does the assert statement do, and what other statement is it like?"
   ]
  },
  {
   "cell_type": "markdown",
   "id": "e7b4fa90",
   "metadata": {},
   "source": [
    "Ans: there is another way of defining custome exception by using assert statement. if user wants to make an assertion in the programme he can do so by using assert statement. Assertions are simply boolean expressions that check if the conditions return true or not. If it is true, the program does nothing and moves to the next line of code. However, if it's false, the program stops and throws an error. "
   ]
  },
  {
   "cell_type": "code",
   "execution_count": 10,
   "id": "baf2175b",
   "metadata": {},
   "outputs": [
    {
     "ename": "AssertionError",
     "evalue": "value of variable a should be greater then 5",
     "output_type": "error",
     "traceback": [
      "\u001b[1;31m---------------------------------------------------------------------------\u001b[0m",
      "\u001b[1;31mAssertionError\u001b[0m                            Traceback (most recent call last)",
      "\u001b[1;32m~\\AppData\\Local\\Temp/ipykernel_26044/2670341019.py\u001b[0m in \u001b[0;36m<module>\u001b[1;34m\u001b[0m\n\u001b[0;32m      1\u001b[0m \u001b[0ma\u001b[0m \u001b[1;33m=\u001b[0m \u001b[1;36m5\u001b[0m\u001b[1;33m\u001b[0m\u001b[1;33m\u001b[0m\u001b[0m\n\u001b[1;32m----> 2\u001b[1;33m \u001b[1;32massert\u001b[0m \u001b[0ma\u001b[0m\u001b[1;33m>\u001b[0m\u001b[1;36m5\u001b[0m\u001b[1;33m,\u001b[0m \u001b[1;34m'value of variable a should be greater then 5'\u001b[0m\u001b[1;33m\u001b[0m\u001b[1;33m\u001b[0m\u001b[0m\n\u001b[0m",
      "\u001b[1;31mAssertionError\u001b[0m: value of variable a should be greater then 5"
     ]
    }
   ],
   "source": [
    "a = 5\n",
    "assert a>5, 'value of variable a should be greater then 5'"
   ]
  },
  {
   "cell_type": "markdown",
   "id": "a154799b",
   "metadata": {},
   "source": [
    "## Q5. What is the purpose of the with/as argument, and what other statement is it like?"
   ]
  },
  {
   "cell_type": "markdown",
   "id": "bea52dfe",
   "metadata": {},
   "source": [
    "Ans: with/as statements used in file handling. there is no need of closing file explicitly if we open file with as statements. without using with/as statement if we write in a file it will not visible until we close it. but if we use with/as statement we need not to close the file explicitly."
   ]
  },
  {
   "cell_type": "code",
   "execution_count": 17,
   "id": "489ed131",
   "metadata": {},
   "outputs": [],
   "source": [
    "# 1) without using with statement\n",
    "file = open('file.txt', 'w')\n",
    "file.write('hello world !')\n",
    "file.close()"
   ]
  },
  {
   "cell_type": "code",
   "execution_count": 23,
   "id": "89b1f570",
   "metadata": {},
   "outputs": [],
   "source": [
    "with open('file1.txt', 'w') as file1:\n",
    "    file1.write(\"Data science\")"
   ]
  },
  {
   "cell_type": "code",
   "execution_count": null,
   "id": "fcdb77d8",
   "metadata": {},
   "outputs": [],
   "source": []
  }
 ],
 "metadata": {
  "kernelspec": {
   "display_name": "Python 3 (ipykernel)",
   "language": "python",
   "name": "python3"
  },
  "language_info": {
   "codemirror_mode": {
    "name": "ipython",
    "version": 3
   },
   "file_extension": ".py",
   "mimetype": "text/x-python",
   "name": "python",
   "nbconvert_exporter": "python",
   "pygments_lexer": "ipython3",
   "version": "3.9.7"
  }
 },
 "nbformat": 4,
 "nbformat_minor": 5
}

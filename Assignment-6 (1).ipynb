{
 "cells": [
  {
   "cell_type": "markdown",
   "id": "1d6f8d2e",
   "metadata": {},
   "source": [
    "## Q1. Describe three applications for exception processing."
   ]
  },
  {
   "cell_type": "markdown",
   "id": "9b749685",
   "metadata": {},
   "source": [
    "Ans: Exception is a python object that represent an error. when a python script encounter a situation that it can not copup with, it raise an exception. when python raise an exception it must be handle otherwise it will terminate the code in between.\n",
    "\n",
    "exception processing can be used in following situation:\n",
    "- input()- this function results string value only, if there is a python programme which takes only integer input, entring a integer through it will disrupt the programme. in that situation we need to handle this situation.\n",
    "- If we are checking any Arithmetic Errors (FloatingPointError, ZeroDevisionError, OverFlowError) \n",
    "- If we are checking any syntax Error"
   ]
  },
  {
   "cell_type": "markdown",
   "id": "8a305b51",
   "metadata": {},
   "source": [
    "## Q2. What happens if you don't do something extra to treat an exception?"
   ]
  },
  {
   "cell_type": "markdown",
   "id": "538ec0d0",
   "metadata": {},
   "source": [
    "Ans: If we don't handle an Exception then our programme will disrupt in between."
   ]
  },
  {
   "cell_type": "markdown",
   "id": "01cdc25c",
   "metadata": {},
   "source": [
    "## Q3. What are your options for recovering from an exception in your script?"
   ]
  },
  {
   "cell_type": "markdown",
   "id": "2e347f7f",
   "metadata": {},
   "source": [
    "Ans: Using of Try: and EXcept: statement in our script would recover an exception. "
   ]
  },
  {
   "cell_type": "markdown",
   "id": "2228d244",
   "metadata": {},
   "source": [
    "## Q4. Describe two methods for triggering exceptions in your script."
   ]
  },
  {
   "cell_type": "markdown",
   "id": "2c20fce1",
   "metadata": {},
   "source": [
    "Ans: In our script we can mannualy trigger an exception with 'raise' and 'assert' methods.\n",
    "- raise: if we want to define any kind or error to raise and print text to user then we can use raise keyword inside our script. for this we need to right a condition if condition is true it will throw an error\n",
    "- assert: this keyword is also used for error based on condition if it is false otherwise it will pass."
   ]
  },
  {
   "cell_type": "code",
   "execution_count": 40,
   "id": "d7772bfd",
   "metadata": {},
   "outputs": [
    {
     "ename": "TypeError",
     "evalue": "Only integers are allowed",
     "output_type": "error",
     "traceback": [
      "\u001b[1;31m---------------------------------------------------------------------------\u001b[0m",
      "\u001b[1;31mTypeError\u001b[0m                                 Traceback (most recent call last)",
      "\u001b[1;32m~\\AppData\\Local\\Temp/ipykernel_21272/529096412.py\u001b[0m in \u001b[0;36m<module>\u001b[1;34m\u001b[0m\n\u001b[0;32m      1\u001b[0m \u001b[0mx\u001b[0m \u001b[1;33m=\u001b[0m \u001b[1;34m\"hello\"\u001b[0m\u001b[1;33m\u001b[0m\u001b[1;33m\u001b[0m\u001b[0m\n\u001b[0;32m      2\u001b[0m \u001b[1;32mif\u001b[0m \u001b[1;32mnot\u001b[0m \u001b[0mtype\u001b[0m\u001b[1;33m(\u001b[0m\u001b[0mx\u001b[0m\u001b[1;33m)\u001b[0m \u001b[1;32mis\u001b[0m \u001b[0mint\u001b[0m\u001b[1;33m:\u001b[0m \u001b[1;31m#condition\u001b[0m\u001b[1;33m\u001b[0m\u001b[1;33m\u001b[0m\u001b[0m\n\u001b[1;32m----> 3\u001b[1;33m     \u001b[1;32mraise\u001b[0m \u001b[0mTypeError\u001b[0m\u001b[1;33m(\u001b[0m\u001b[1;34m\"Only integers are allowed\"\u001b[0m\u001b[1;33m)\u001b[0m\u001b[1;33m\u001b[0m\u001b[1;33m\u001b[0m\u001b[0m\n\u001b[0m",
      "\u001b[1;31mTypeError\u001b[0m: Only integers are allowed"
     ]
    }
   ],
   "source": [
    "#raise\n",
    "x = \"hello\"\n",
    "if not type(x) is int: #condition \n",
    "    raise TypeError(\"Only integers are allowed\")"
   ]
  },
  {
   "cell_type": "code",
   "execution_count": 41,
   "id": "e17ce686",
   "metadata": {},
   "outputs": [
    {
     "ename": "AssertionError",
     "evalue": "x should be 'hello'",
     "output_type": "error",
     "traceback": [
      "\u001b[1;31m---------------------------------------------------------------------------\u001b[0m",
      "\u001b[1;31mAssertionError\u001b[0m                            Traceback (most recent call last)",
      "\u001b[1;32m~\\AppData\\Local\\Temp/ipykernel_21272/3916016780.py\u001b[0m in \u001b[0;36m<module>\u001b[1;34m\u001b[0m\n\u001b[0;32m      2\u001b[0m \u001b[0mx\u001b[0m \u001b[1;33m=\u001b[0m \u001b[1;34m\"hello\"\u001b[0m\u001b[1;33m\u001b[0m\u001b[1;33m\u001b[0m\u001b[0m\n\u001b[0;32m      3\u001b[0m \u001b[1;31m#if condition returns False, AssertionError is raised:\u001b[0m\u001b[1;33m\u001b[0m\u001b[1;33m\u001b[0m\u001b[0m\n\u001b[1;32m----> 4\u001b[1;33m \u001b[1;32massert\u001b[0m \u001b[0mx\u001b[0m \u001b[1;33m==\u001b[0m \u001b[1;34m\"bye\"\u001b[0m\u001b[1;33m,\u001b[0m \u001b[1;34m\"x should be 'hello'\"\u001b[0m\u001b[1;33m\u001b[0m\u001b[1;33m\u001b[0m\u001b[0m\n\u001b[0m",
      "\u001b[1;31mAssertionError\u001b[0m: x should be 'hello'"
     ]
    }
   ],
   "source": [
    "# assert\n",
    "x = \"hello\"\n",
    "#if condition returns False, AssertionError is raised:\n",
    "assert x == \"bye\", \"x should be 'hello'\""
   ]
  },
  {
   "cell_type": "markdown",
   "id": "2de71803",
   "metadata": {},
   "source": [
    "## Q5. Identify two methods for specifying actions to be executed at termination time, regardless of whether or not an exception exists."
   ]
  },
  {
   "cell_type": "markdown",
   "id": "210a85aa",
   "metadata": {},
   "source": [
    "Ans: code inside of finally block always be excuted at termination time whether there is an exception or not."
   ]
  },
  {
   "cell_type": "code",
   "execution_count": null,
   "id": "fe386b74",
   "metadata": {},
   "outputs": [],
   "source": []
  }
 ],
 "metadata": {
  "kernelspec": {
   "display_name": "Python 3 (ipykernel)",
   "language": "python",
   "name": "python3"
  },
  "language_info": {
   "codemirror_mode": {
    "name": "ipython",
    "version": 3
   },
   "file_extension": ".py",
   "mimetype": "text/x-python",
   "name": "python",
   "nbconvert_exporter": "python",
   "pygments_lexer": "ipython3",
   "version": "3.9.7"
  }
 },
 "nbformat": 4,
 "nbformat_minor": 5
}
